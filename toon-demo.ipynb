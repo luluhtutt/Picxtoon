{
 "cells": [
  {
   "cell_type": "code",
   "execution_count": 8,
   "metadata": {},
   "outputs": [],
   "source": [
    "%matplotlib inline\n",
    "import toon\n",
    "import matplotlib.pyplot as plt\n",
    "import numpy as np\n",
    "import PIL as Image"
   ]
  },
  {
   "attachments": {},
   "cell_type": "markdown",
   "metadata": {},
   "source": [
    "# Part 1: Basic Image Processing\n",
    "\n",
    "Let's first read an image in and see how it looks!"
   ]
  },
  {
   "cell_type": "code",
   "execution_count": 9,
   "metadata": {},
   "outputs": [
    {
     "ename": "NameError",
     "evalue": "name 'Path' is not defined",
     "output_type": "error",
     "traceback": [
      "\u001b[0;31m---------------------------------------------------------------------------\u001b[0m",
      "\u001b[0;31mNameError\u001b[0m                                 Traceback (most recent call last)",
      "Cell \u001b[0;32mIn[9], line 1\u001b[0m\n\u001b[0;32m----> 1\u001b[0m \u001b[39mprint\u001b[39m(Path(\u001b[39m'\u001b[39m\u001b[39m./albert.jpeg\u001b[39m\u001b[39m'\u001b[39m)\u001b[39m.\u001b[39mexists())\n\u001b[1;32m      2\u001b[0m image\u001b[39m=\u001b[39mImage\u001b[39m.\u001b[39mopen(\u001b[39m'\u001b[39m\u001b[39malbert.jpeg\u001b[39m\u001b[39m'\u001b[39m)\n\u001b[1;32m      3\u001b[0m img \u001b[39m=\u001b[39m toon\u001b[39m.\u001b[39mimread(\u001b[39m'\u001b[39m\u001b[39malbert.jpeg\u001b[39m\u001b[39m'\u001b[39m)\n",
      "\u001b[0;31mNameError\u001b[0m: name 'Path' is not defined"
     ]
    }
   ],
   "source": [
    "# print(Path('./albert.jpeg').exists())\n",
    "image=Image.open('albert.jpeg')\n",
    "img = toon.imread('albert.jpeg')\n",
    "plt.imshow(image)"
   ]
  }
 ],
 "metadata": {
  "kernelspec": {
   "display_name": "Python 3",
   "language": "python",
   "name": "python3"
  },
  "language_info": {
   "codemirror_mode": {
    "name": "ipython",
    "version": 3
   },
   "file_extension": ".py",
   "mimetype": "text/x-python",
   "name": "python",
   "nbconvert_exporter": "python",
   "pygments_lexer": "ipython3",
   "version": "3.9.12"
  },
  "orig_nbformat": 4
 },
 "nbformat": 4,
 "nbformat_minor": 2
}
